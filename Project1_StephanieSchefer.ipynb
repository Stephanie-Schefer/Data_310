{
  "nbformat": 4,
  "nbformat_minor": 0,
  "metadata": {
    "colab": {
      "provenance": [],
      "collapsed_sections": [],
      "toc_visible": true
    },
    "kernelspec": {
      "name": "python3",
      "display_name": "Python 3"
    },
    "language_info": {
      "name": "python"
    }
  },
  "cells": [
    {
      "cell_type": "markdown",
      "source": [
        "# Project 1\n",
        "\n",
        "Create a Google Colab Notebook and include the name of the project and your name in the filename.\n",
        "\n",
        "Write your own Python code for solving the following problems via Monte Carlo simulations:\n",
        "\n",
        "## Question 1\n",
        "If you are rolling 5 dice, determine the probability that the sum of the faces showing up is equal to 21."
      ],
      "metadata": {
        "id": "AaydC54Opkwm"
      }
    },
    {
      "cell_type": "code",
      "source": [
        "def dice_game(nrolls,sum1,ndice):\n",
        "    \n",
        "    import random\n",
        "\n",
        "    sum_list = []\n",
        "\n",
        "    for i in range(nrolls):\n",
        "      current_roll = []\n",
        "      for dice in range(ndice):\n",
        "        current_roll.append(random.randint(1,6))\n",
        "      sum_list.append(sum(current_roll))      \n",
        "    \n",
        "\n",
        "    success = 0 # check to see if the sum was correct\n",
        "\n",
        "    for i in range(len(sum_list)):\n",
        "      if sum_list[i] == sum1:\n",
        "        success+=1\n",
        "    \n",
        "    return (success/nrolls) "
      ],
      "metadata": {
        "id": "tt6BDEr7pbxV"
      },
      "execution_count": null,
      "outputs": []
    },
    {
      "cell_type": "code",
      "source": [
        "dice_game(10000,21,5) # the probability that the sum of the faces showing up is equal to 21 is about 7%."
      ],
      "metadata": {
        "colab": {
          "base_uri": "https://localhost:8080/"
        },
        "id": "61DZPoBIp7Hw",
        "outputId": "15085038-5d60-467a-ca25-0eaf7c6162e3"
      },
      "execution_count": null,
      "outputs": [
        {
          "output_type": "execute_result",
          "data": {
            "text/plain": [
              "0.069518"
            ]
          },
          "metadata": {},
          "execution_count": 9
        }
      ]
    },
    {
      "cell_type": "markdown",
      "source": [
        "## Question 2 \n",
        "You're about to get on a plane to Boston. You want to know whether it is raining. You call 4 random friends of yours who live there and ask each one independently, if it's raining. The first two of your friends have a 1/3 chance of telling you the truth and, the other two have 1/4 chance of messing with you by lying. All 4 friends tell you that \"No\" it isn't raining. What is the probability that it's raining in Boston?\n"
      ],
      "metadata": {
        "id": "vNN7kJLyry_W"
      }
    },
    {
      "cell_type": "code",
      "source": [
        "def prob_rain(n_times):\n",
        "\n",
        "  import random\n",
        "\n",
        "  success = 0\n",
        "\n",
        "  for trial in range(n_times):\n",
        "    # run the sim one time\n",
        "    call = random.choices(\n",
        "    population=['Truth','Lie'],\n",
        "    weights = [0.333333333333, 0.666666666666],\n",
        "    k = 2)\n",
        "\n",
        "    call2 = random.choices(\n",
        "    population=['Truth','Lie'],\n",
        "    weights = [0.75, 0.25],\n",
        "    k = 2)\n",
        "\n",
        "    friends = [*call,*call2]\n",
        "    \n",
        "    if friends == [\"Lie\",\"Lie\",\"Lie\",\"Lie\"]:\n",
        "      success +=1\n",
        "    \n",
        "  return print(\"The probability that it is actually raining in Boston given that all 4 friends said 'No' is \" +str(success/n_times))\n",
        "\n"
      ],
      "metadata": {
        "id": "OCclG7eyqa84"
      },
      "execution_count": null,
      "outputs": []
    },
    {
      "cell_type": "code",
      "source": [
        "prob_rain(10000)"
      ],
      "metadata": {
        "id": "9_Z8YEIBw3by",
        "colab": {
          "base_uri": "https://localhost:8080/"
        },
        "outputId": "5e30cb8a-4dd9-4ae4-f6f3-b33450c9908b"
      },
      "execution_count": null,
      "outputs": [
        {
          "output_type": "stream",
          "name": "stdout",
          "text": [
            "The probability that it is actually raining in Boston given that all 4 friends said 'No' is 0.0277731\n"
          ]
        }
      ]
    },
    {
      "cell_type": "markdown",
      "source": [
        "## Question 3\n",
        "Mad Max wants to travel from New York to Dallas by the shortest possible route. He may travel over the routes shown in the table below. Unfortunately, the Wicked Witch can block one road leading out of Atlanta and one road leading out of Nashville. Mad Max will not know which roads have been blocked until he arrives at Atlanta or Nashville. Should Mad Max start toward Atlanta or Nashville?\n",
        "\n",
        "\n",
        "\n",
        "Route |\tLength of Route (miles) |\n",
        "---:|---:|\n",
        "New York - Atlanta|866|\n",
        "New York - Nashville|900|\n",
        "Nashville - St. Louis|309|\n",
        "Nashville - New Orleans|532|\n",
        "Atlanta - St. Louis|555|\n",
        "Atlanta - New Orleans|470|\n",
        "St. Loius - Dallas|662|\n",
        "New Orleans - Dallas|505|\n"
      ],
      "metadata": {
        "id": "x2MTui8nuQvP"
      }
    },
    {
      "cell_type": "code",
      "source": [
        "def travel(ntimes):\n",
        "\n",
        "  import random\n",
        "\n",
        "\n",
        "  # going to Atlanta\n",
        "  atlanta_miles = []\n",
        "\n",
        "  for i in range(ntimes):\n",
        "    a_total_miles = 866 #new york to atlanta\n",
        "\n",
        "    road_closure = random.choice(['St. Louis','New Orleans']) # randomly choose which road is closed\n",
        "\n",
        "    # Assumption: the witch will close one road from each city\n",
        "    if road_closure == \"St. Louis\":\n",
        "      a_total_miles += (470+505) # atlanta-neworleans, neworleans - dallas\n",
        "\n",
        "    else:\n",
        "      a_total_miles += (555+662) # atlanta-st louis, st.louis-dallas\n",
        "\n",
        "    atlanta_miles.append(a_total_miles)\n",
        "\n",
        "  print(\"The average miles traveled through Atlanta is \" + str(sum(atlanta_miles)/ntimes))\n",
        "\n",
        "\n",
        "  # I am running the simulation twice because the routes from atlanta to st.louis and new orleans and nashville to those cities will be different depending on the city of origin.\n",
        "  # going to Nashville\n",
        "  nashville_miles = []\n",
        "\n",
        "  for i in range(ntimes):\n",
        "    n_total_miles = 900 #new york to nash\n",
        "\n",
        "    road_closure = random.choice(['St. Louis','New Orleans'])\n",
        "\n",
        "    # Assumption: the witch will close one road from each city\n",
        "    if road_closure == \"St. Louis\":\n",
        "      n_total_miles += (532+505) # nash to new orleans, new or to dallas\n",
        "\n",
        "    else:\n",
        "      n_total_miles += (309+662) # nash to st louis, st lewis to dallas\n",
        "    \n",
        "    nashville_miles.append(n_total_miles)\n",
        "\n",
        "  print(\"The average miles traveled through Nashville is \" + str(sum(nashville_miles)/ntimes))\n",
        "\n",
        "  \n",
        "  if sum(atlanta_miles)/ntimes < sum(nashville_miles)/ntimes:\n",
        "    optimal = \"Atlanta\"\n",
        "  elif sum(atlanta_miles)/ntimes > sum(nashville_miles)/ntimes:\n",
        "    optimal = 'Nashville'\n",
        "  else:\n",
        "    optimal = 'either city because the average distance is a tie'\n",
        "\n",
        "  print('You should travel to '+ optimal+'.')\n",
        "\n",
        "\n",
        "\n",
        "# is no road closure an option, or does the witch always block one road"
      ],
      "metadata": {
        "id": "KzBbiBmIqJcB"
      },
      "execution_count": null,
      "outputs": []
    },
    {
      "cell_type": "code",
      "source": [
        "travel(10000)"
      ],
      "metadata": {
        "colab": {
          "base_uri": "https://localhost:8080/"
        },
        "id": "ImecWynLQhEl",
        "outputId": "31a6074f-de71-4adc-9eb9-5b8952228c3f"
      },
      "execution_count": null,
      "outputs": [
        {
          "output_type": "stream",
          "name": "stdout",
          "text": [
            "The average miles traveled through Atlanta is 1961.3224\n",
            "The average miles traveled through Nashville is 1904.2046\n",
            "You should travel to Nashville.\n"
          ]
        }
      ]
    }
  ]
}